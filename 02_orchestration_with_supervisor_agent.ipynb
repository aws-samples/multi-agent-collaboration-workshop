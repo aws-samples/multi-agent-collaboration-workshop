{
 "cells": [
  {
   "cell_type": "markdown",
   "id": "c12918a0",
   "metadata": {},
   "source": [
    "# Create and use a Supervisor Agent to orchestrate multiple sub-agents and a knowledge base"
   ]
  },
  {
   "cell_type": "markdown",
   "id": "9fcecc32",
   "metadata": {},
   "source": [
    "\n",
    "\n",
    "The Supervisor agent plays a crucial role in multi-agent collaboration systems. It acts as a central coordinator, overseeing the activities of other specialized agents and ensuring cohesive, goal-oriented outcomes. The Supervisor's primary function is to manage task allocation, monitor progress, and integrate results from various agents. This hierarchical structure enhances efficiency, reduces conflicts, and maintains focus on the overall objective, ultimately leading to more effective problem-solving and decision-making in complex scenarios.\n",
    "\n",
    "\n",
    "In this notebook, we will \n",
    "* Demonstrate orchestration of our mortgage sub-agents with a supervisor agent. \n",
    "* Create a guardrail that will act to regulate the types of inputs and outputs that are MAC can process\n",
    "* Test our supervisor agent\n",
    "* Measure the latency of our supervisor/sub-agent system\n"
   ]
  },
  {
   "cell_type": "markdown",
   "id": "4fa67d7a",
   "metadata": {
    "pycharm": {
     "name": "#%% md\n"
    }
   },
   "source": [
    "First step is to install the pre-requisites packages. NOTE: You only need to do this is this is the first notebook you are running. "
   ]
  },
  {
   "cell_type": "code",
   "execution_count": null,
   "id": "ac05c073-d45b-4d85-9bf8-ae10aa78be8d",
   "metadata": {
    "pycharm": {
     "name": "#%%\n"
    },
    "tags": []
   },
   "outputs": [],
   "source": [
    "# Only uncomment out and install requirements if this is the first notebook you are running\n",
    "# !pip install --upgrade -q -r requirements.txt\n",
    "# !pip install --upgrade -q boto3 botocore awscli "
   ]
  },
  {
   "cell_type": "code",
   "execution_count": null,
   "id": "e8ad6ec2-b283-4c5d-879f-e397e46568c0",
   "metadata": {
    "pycharm": {
     "name": "#%%\n"
    },
    "tags": []
   },
   "outputs": [],
   "source": [
    "import boto3\n",
    "print(f'boto3 version: {boto3.__version__}')\n",
    "import logging\n",
    "import time\n",
    "import uuid\n",
    "\n",
    "%load_ext autoreload\n",
    "%autoreload 2\n",
    "\n",
    "from knowledge_base import BedrockKnowledgeBase\n",
    "from agent import AgentsForAmazonBedrock"
   ]
  },
  {
   "cell_type": "code",
   "execution_count": null,
   "id": "d2b2d607-c1f2-4cbb-9f89-d935676e0101",
   "metadata": {
    "pycharm": {
     "name": "#%%\n"
    },
    "tags": []
   },
   "outputs": [],
   "source": [
    "#Clients\n",
    "s3_client = boto3.client('s3')\n",
    "sts_client = boto3.client('sts')\n",
    "session = boto3.session.Session()\n",
    "bedrock_agent_client = boto3.client('bedrock-agent')\n",
    "bedrock_agent_runtime_client = boto3.client('bedrock-agent-runtime')\n",
    "bedrock_client = boto3.client('bedrock')\n",
    "\n",
    "logging.basicConfig(format='[%(asctime)s] p%(process)s {%(filename)s:%(lineno)d} %(levelname)s - %(message)s', level=logging.INFO)\n",
    "logger = logging.getLogger(__name__)"
   ]
  },
  {
   "cell_type": "code",
   "execution_count": null,
   "id": "d647d2a3",
   "metadata": {
    "pycharm": {
     "name": "#%%\n"
    },
    "tags": []
   },
   "outputs": [],
   "source": [
    "region = session.region_name\n",
    "account_id = sts_client.get_caller_identity()[\"Account\"]\n",
    "\n",
    "suffix = f\"{region}-{account_id}\"\n",
    "bucket_name = f'mac-workshop-{suffix}'\n",
    "agent_foundation_models = [\n",
    "    # \"anthropic.claude-3-haiku-20240307-v1:0\",\n",
    "    \"anthropic.claude-3-sonnet-20240229-v1:0\", \n",
    "    ]"
   ]
  },
  {
   "cell_type": "code",
   "execution_count": null,
   "id": "31994238",
   "metadata": {},
   "outputs": [],
   "source": [
    "agents = AgentsForAmazonBedrock()"
   ]
  },
  {
   "cell_type": "code",
   "execution_count": null,
   "id": "c5a08fed",
   "metadata": {},
   "outputs": [],
   "source": [
    "from knowledge_base import BedrockKnowledgeBaseHelper\n",
    "helper = BedrockKnowledgeBaseHelper()\n",
    "kb_id = helper.get_kb()\n",
    "kb_arn = f\"arn:aws:bedrock:{region}:{account_id}:knowledge-base/{kb_id}\"\n",
    "\n",
    "print(kb_id)\n",
    "print(kb_arn)"
   ]
  },
  {
   "cell_type": "markdown",
   "id": "6b76a957",
   "metadata": {},
   "source": [
    "## 1. Make a Supervisor Agent on top of existing agents"
   ]
  },
  {
   "cell_type": "markdown",
   "id": "c1771081",
   "metadata": {},
   "source": [
    "#### Review Lambda implementation for Supervisor agent\n",
    "Take a look at this reusable Lambda function which implements an Agent Action Group for a supervisor agent.\n",
    "Based on an environment variable provided to the Lambda, the function knows which sub-agents it supports.\n",
    "The signature to each agent is identical. Thus, dispatching is generic and invocation is as well."
   ]
  },
  {
   "cell_type": "code",
   "execution_count": null,
   "id": "fa2b25b2",
   "metadata": {},
   "outputs": [],
   "source": [
    "!pygmentize supervisor_agent_function.py"
   ]
  },
  {
   "cell_type": "code",
   "execution_count": null,
   "id": "3715525a",
   "metadata": {},
   "outputs": [],
   "source": [
    "sub_agent_names = [\"existing_mortgage_agent\", \"mortgage_application_agent\"]"
   ]
  },
  {
   "cell_type": "code",
   "execution_count": null,
   "id": "f5295996",
   "metadata": {},
   "outputs": [],
   "source": [
    "supervisor_agent_name = \"mortgage_supervisor_agent\""
   ]
  },
  {
   "cell_type": "code",
   "execution_count": null,
   "id": "98bf2680",
   "metadata": {},
   "outputs": [],
   "source": [
    "kb_arn "
   ]
  },
  {
   "cell_type": "code",
   "execution_count": null,
   "id": "d9def9ce",
   "metadata": {},
   "outputs": [],
   "source": [
    "function_defs, supervisor_agent_arn = \\\n",
    "    agents.create_supervisor_agent(supervisor_agent_name, \n",
    "                                    sub_agent_names,\n",
    "                                    agent_foundation_models,\n",
    "                                    kb_arn,\n",
    "                                    \"Useful for answering questions about mortgage refinancing and for questions comparing various mortgage types\")"
   ]
  },
  {
   "cell_type": "code",
   "execution_count": null,
   "id": "97344e17",
   "metadata": {},
   "outputs": [],
   "source": [
    "supervisor_agent_id = supervisor_agent_arn.split('/')[1]\n",
    "supervisor_agent_id\n",
    "%store supervisor_agent_id"
   ]
  },
  {
   "cell_type": "markdown",
   "id": "37933a68",
   "metadata": {},
   "source": [
    "Try one simple invoke to be sure the supervisor agent is working."
   ]
  },
  {
   "cell_type": "code",
   "execution_count": null,
   "id": "461e62f7",
   "metadata": {},
   "outputs": [],
   "source": [
    "%%time\n",
    "session_id:str = str(uuid.uuid1())\n",
    "print(agents.invoke(\"my customer id is 8953. when is my payment due?\", \n",
    "                    supervisor_agent_id, session_id=session_id))"
   ]
  },
  {
   "cell_type": "markdown",
   "id": "763a300f",
   "metadata": {},
   "source": [
    "## 2. Test the Supervisor Agent\n",
    "Now that we've created the agent, let's use the `bedrock-agent-runtime` client to invoke this agent and perform some tasks. You can invoke your agent with the [`invoke_agent`](https://boto3.amazonaws.com/v1/documentation/api/latest/reference/services/bedrock-agent-runtime/client/invoke_agent.html) API. Here we use the agents wrapper class instead."
   ]
  },
  {
   "cell_type": "code",
   "execution_count": null,
   "id": "fb74b4aa",
   "metadata": {},
   "outputs": [],
   "source": [
    "%%time\n",
    "print(agents.invoke(\"my id is 8953. what is my balance?\", \n",
    "                supervisor_agent_id, session_id=session_id, enable_trace=False))"
   ]
  },
  {
   "cell_type": "code",
   "execution_count": null,
   "id": "ddc56f19",
   "metadata": {},
   "outputs": [],
   "source": [
    "%%time\n",
    "print(agents.invoke(\"nice. what's my maturity date?\", supervisor_agent_id, session_id=session_id))"
   ]
  },
  {
   "cell_type": "code",
   "execution_count": null,
   "id": "be555843",
   "metadata": {},
   "outputs": [],
   "source": [
    "%%time\n",
    "print(agents.invoke(\"what docs do I need for my application?\", \n",
    "                    supervisor_agent_id, session_id=session_id))"
   ]
  },
  {
   "cell_type": "code",
   "execution_count": null,
   "id": "fd72326a",
   "metadata": {},
   "outputs": [],
   "source": [
    "%%time\n",
    "print(agents.invoke(\"what docs have I already provided you for my application?\", \n",
    "            supervisor_agent_id, session_id=session_id, enable_trace=False))"
   ]
  },
  {
   "cell_type": "code",
   "execution_count": null,
   "id": "7cbccfc6",
   "metadata": {},
   "outputs": [],
   "source": [
    "%%time\n",
    "print(agents.invoke(\"compare and contrast 15-year and 30-year mortgage types\", \n",
    "                    supervisor_agent_id, session_id=session_id))"
   ]
  },
  {
   "cell_type": "code",
   "execution_count": null,
   "id": "1e0201c0-abb3-4ad5-a7e7-1750d14a2717",
   "metadata": {
    "pycharm": {
     "name": "#%%\n"
    },
    "tags": []
   },
   "outputs": [],
   "source": [
    "%%time\n",
    "session_id:str = str(uuid.uuid1())\n",
    "query = \"my customer ID is 8953. what is my mortgage balance and when is my next payment due?\"\n",
    "response = agents.invoke(query, supervisor_agent_id, session_id=session_id)\n",
    "print(response)"
   ]
  },
  {
   "cell_type": "markdown",
   "id": "c7043ba4",
   "metadata": {},
   "source": [
    "## 3. Use session attributes to provide context to the Supervisor Agent\n",
    "\n",
    "To do so, we can use the session context to provide some attributes to our prompt. In this case we will provide it directly to the prompt using the [`promptSessionAttributes`](https://docs.aws.amazon.com/bedrock/latest/userguide/agents-session-state.html) parameter. Let's also start a new session id so that our agent does not memorize our name."
   ]
  },
  {
   "cell_type": "code",
   "execution_count": null,
   "id": "a03ad5f2",
   "metadata": {},
   "outputs": [],
   "source": [
    "from datetime import datetime\n",
    "today = datetime.today().strftime('%b-%d-%Y')\n",
    "\n",
    "session_state = {\n",
    "    \"promptSessionAttributes\": {\n",
    "        \"customer_ID\": \"498\",\n",
    "        \"today\": today\n",
    "    }\n",
    "}\n",
    "session_state"
   ]
  },
  {
   "cell_type": "code",
   "execution_count": null,
   "id": "139c210f",
   "metadata": {},
   "outputs": [],
   "source": [
    "%%time\n",
    "query = \"what docs do I still owe you?\"\n",
    "print(agents.invoke(query, supervisor_agent_id, \n",
    "                session_id=session_id, session_state=session_state))"
   ]
  },
  {
   "cell_type": "code",
   "execution_count": null,
   "id": "e140e6ee",
   "metadata": {},
   "outputs": [],
   "source": [
    "%%time\n",
    "query = \"how many years until my maturity date?\"\n",
    "print(agents.invoke(query, supervisor_agent_id, \n",
    "        session_id=session_id, session_state=session_state, enable_trace=False))"
   ]
  },
  {
   "cell_type": "markdown",
   "id": "38b3f123",
   "metadata": {},
   "source": [
    "## 4. Control the tone of the supervisor, independent of the sub-agents"
   ]
  },
  {
   "cell_type": "code",
   "execution_count": null,
   "id": "8282eb77",
   "metadata": {},
   "outputs": [],
   "source": [
    "current_instructions = agents.get_agent_instructions_by_name(supervisor_agent_name)\n",
    "current_instructions"
   ]
  },
  {
   "cell_type": "code",
   "execution_count": null,
   "id": "38ce9d46",
   "metadata": {},
   "outputs": [],
   "source": [
    "current_instructions += \"\"\"\n",
    " The style and tone of your response should be that of a casual and friendly conversation \n",
    "on social media or a text stream. Add some humor, and use texting shorthand like lol.\"\"\"\n",
    "updated_details = agents.update_agent(supervisor_agent_name, new_instructions=current_instructions)\n",
    "updated_details"
   ]
  },
  {
   "cell_type": "code",
   "execution_count": null,
   "id": "cd61885c",
   "metadata": {},
   "outputs": [],
   "source": [
    "%%time\n",
    "session_id:str = str(uuid.uuid1())\n",
    "query = \"hey bro, i'm customer 1234. when's my next pmt?\"\n",
    "print(agents.invoke(query, supervisor_agent_id, session_id=session_id, session_state=session_state, enable_trace=False))"
   ]
  },
  {
   "cell_type": "code",
   "execution_count": null,
   "id": "aee669ee",
   "metadata": {},
   "outputs": [],
   "source": [
    "%%time\n",
    "query = \"amazing, dude. can u help me raise some cash for that? jk\"\n",
    "print(agents.invoke(query, supervisor_agent_id, session_id=session_id))"
   ]
  },
  {
   "cell_type": "markdown",
   "id": "14a82371",
   "metadata": {},
   "source": [
    "## 5. Try out a guardrail"
   ]
  },
  {
   "cell_type": "code",
   "execution_count": null,
   "id": "1c4eb5c5",
   "metadata": {},
   "outputs": [],
   "source": [
    "try:\n",
    "    response = bedrock_client.create_guardrail(\n",
    "        name='MortgageAssistantGuardrail',\n",
    "        description='Guardrail for supervisor bot to block any non-mortgage related topics',\n",
    "        topicPolicyConfig={\n",
    "            'topicsConfig': [\n",
    "                {\n",
    "                    'name': 'Non-Mortgage',\n",
    "                    'definition': 'Non-Mortgage refers to any topic outside of a mortgage and payment related questions. This could potentially include financial related topics such as investment advice, banking advice, etc.',\n",
    "                    'examples': [\n",
    "                        'Should I buy gold?',\n",
    "                        'Is investing in stocks better than bonds?',\n",
    "                        'When is it a good idea to invest in gold?',\n",
    "                        'Should I cash out my house and buy a bunch of stocks?',\n",
    "                    ],\n",
    "                    'type': 'DENY'\n",
    "                },\n",
    "            ]\n",
    "        },\n",
    "        blockedInputMessaging='Sorry, your query violates our usage policies. We are not allowed to discuss non-mortgage related questions. To discuss the best investment advice for your current situation, please contact us on (XXX) XXX-XXXX and we will be happy to support you.',\n",
    "        blockedOutputsMessaging='Sorry, I am unable to reply. Please contact us on (XXX) XXX-XXXX and we will be happy to support you.',\n",
    "    )\n",
    "except:\n",
    "    response = bedrock_client.list_guardrails(\n",
    "        maxResults=123,\n",
    "    )\n",
    "    for guardrail in response.get('guardrails', []):\n",
    "        if guardrail.get('name') == 'MortgageAssistantGuardrail':\n",
    "            response = guardrail\n",
    "    print(response)\n",
    "    bedrock_client.delete_guardrail(guardrailIdentifier=response.get(\"id\"))\n",
    "    time.sleep(30)\n",
    "    response = bedrock_client.create_guardrail(\n",
    "    name='MortgageAssistantGuardrail',\n",
    "    description='Guardrail for supervisor bot to block any non-mortgage related topics',\n",
    "    topicPolicyConfig={\n",
    "            'topicsConfig': [\n",
    "                {\n",
    "                    'name': 'Non-Mortgage',\n",
    "                    'definition': 'Non-Mortgage refers to any topic outside of a mortgage and payment related question. This could potentially include financial related topics such as investment advice, banking advice, etc.',\n",
    "                    'examples': [\n",
    "                        'Should I buy gold?',\n",
    "                        'Is investing in stocks better than bonds?',\n",
    "                        'When is it a good idea to invest in gold?',\n",
    "                        'Should I cash out my house and buy a bunch of stocks?',\n",
    "                    ],\n",
    "                    'type': 'DENY'\n",
    "                },\n",
    "            ]\n",
    "        },\n",
    "        blockedInputMessaging='Sorry, your query violates our usage policies. We are not allowed to discuss non-mortgage related questions. To discuss the best investment advice for your current situation, please contact us on (XXX) XXX-XXXX and we will be happy to support you.',\n",
    "        blockedOutputsMessaging='Sorry, I am unable to reply. Please contact us on (XXX) XXX-XXXX and we will be happy to support you.',\n",
    ")\n",
    "print(response)\n",
    "\n",
    "guardrail_id = response['guardrailId']\n",
    "guardrail_version = response['version']\n",
    "updated_details = agents.update_agent(supervisor_agent_name, guardrail_id=guardrail_id)\n",
    "time.sleep(10)\n"
   ]
  },
  {
   "cell_type": "code",
   "execution_count": null,
   "id": "ff334f1d",
   "metadata": {},
   "outputs": [],
   "source": [
    "%%time\n",
    "session_id:str = str(uuid.uuid1())\n",
    "query = \"hey bro, my customer ID is 123456. when's my next mortgage pmt?\"\n",
    "print(agents.invoke(query, supervisor_agent_id, session_id=session_id, enable_trace=False))"
   ]
  },
  {
   "cell_type": "code",
   "execution_count": null,
   "id": "d53c7839",
   "metadata": {},
   "outputs": [],
   "source": [
    "%%time\n",
    "query = \"hey I've been reading alot about ETFs. Would you suggest I sell my house and move all the funds to ETFs?\"\n",
    "print(agents.invoke(query, supervisor_agent_id, session_id=session_id, enable_trace=False))"
   ]
  },
  {
   "cell_type": "code",
   "execution_count": null,
   "id": "469b429a",
   "metadata": {},
   "outputs": [],
   "source": [
    "%%time\n",
    "query = \"thanks. do you like the Boston Celtics? time for a new championship banner this year.\"\n",
    "response = agents.invoke(query, supervisor_agent_id, \n",
    "                        session_id=\"200\", enable_trace=False)\n",
    "print(response)\n",
    "\n",
    "# Sorry, the model cannot discuss basketball."
   ]
  },
  {
   "cell_type": "code",
   "execution_count": null,
   "id": "3da6a750",
   "metadata": {},
   "outputs": [],
   "source": [
    "updated_details = agents.update_agent(supervisor_agent_name, guardrail_id=None)"
   ]
  },
  {
   "cell_type": "markdown",
   "id": "7baf18ec",
   "metadata": {},
   "source": [
    "## 6. Quick performance test\n",
    "\n",
    "Performance is a consideration when deciding on using a supervisor agent, intent classification, etc. In the below code the supervisor agent will be invoked multiple times to obtain averages for latency for each response to provide you an idea of it's overall impact to performance. Latency will vary based on model types you select for each agent and the integrations you utilize within your AWS Lambda functions."
   ]
  },
  {
   "cell_type": "code",
   "execution_count": null,
   "id": "8dd93c10",
   "metadata": {},
   "outputs": [],
   "source": [
    "import uuid \n",
    "import time\n",
    "import numpy as np\n",
    "\n",
    "def query_loop_by_supervisor(query, agent_id, num_invokes):\n",
    "    latencies = []\n",
    "    for i in range(num_invokes):\n",
    "        _session_id = str(uuid.uuid1())\n",
    "        _start_time = time.time()\n",
    "        resp = agents.invoke(query, agent_id, session_id=_session_id)\n",
    "        _end_time = time.time()\n",
    "        latencies.append(_end_time - _start_time)\n",
    "\n",
    "    print(f'\\n\\nInvoked agent by supervisor {num_invokes} times.')\n",
    "    # get sum of total latencies\n",
    "    total_time = sum(latencies)\n",
    "    # get average latency\n",
    "    avg_time = total_time / num_invokes\n",
    "    # get p90 latency\n",
    "    p90_time = np.percentile(latencies, 90)\n",
    "\n",
    "    print(f'Average latency: {avg_time:.1f}, P90 latency: {p90_time:.1f}')"
   ]
  },
  {
   "cell_type": "code",
   "execution_count": null,
   "id": "d825e1bf",
   "metadata": {},
   "outputs": [],
   "source": [
    "query_loop_by_supervisor(\"I am customer id 999. when does my mortgage mature?\", \n",
    "                            supervisor_agent_id, 25)"
   ]
  },
  {
   "cell_type": "markdown",
   "id": "8ebf4438-1f48-4642-a57c-530a16815064",
   "metadata": {
    "pycharm": {
     "name": "#%% md\n"
    }
   },
   "source": [
    "## 7. Clean-up \n",
    "\n",
    "**NOTE: Do not run these cells if you are proceeding to other notebooks**"
   ]
  },
  {
   "cell_type": "code",
   "execution_count": null,
   "id": "8c2e5a47",
   "metadata": {},
   "outputs": [],
   "source": [
    "supervisor_agent_name = \"mortgage_supervisor_agent\"\n",
    "agents.delete_lambda(f\"{supervisor_agent_name}_lambda\")\n",
    "agents.delete_agent(supervisor_agent_name)"
   ]
  },
  {
   "cell_type": "code",
   "execution_count": null,
   "id": "587b7ae0",
   "metadata": {},
   "outputs": [],
   "source": [
    "response = bedrock_client.list_guardrails(\n",
    "    maxResults=123,\n",
    ")\n",
    "for guardrail in response.get('guardrails', []):\n",
    "    if guardrail.get('name') == 'MortgageAssistantGuardrail':\n",
    "        response = guardrail\n",
    "print(response)\n",
    "bedrock_client.delete_guardrail(guardrailIdentifier=response.get(\"id\"))"
   ]
  },
  {
   "cell_type": "markdown",
   "id": "fec955d2",
   "metadata": {},
   "source": [
    "Only clean up the sub-agents if you are not moving on to subsequent notebooks."
   ]
  },
  {
   "cell_type": "code",
   "execution_count": null,
   "id": "a7ef525b",
   "metadata": {},
   "outputs": [],
   "source": [
    "# agents.delete_lambda(\"existing_mortgage_ag\")\n",
    "# agents.delete_agent(\"existing_mortgage_agent\")\n",
    "\n",
    "# agents.delete_lambda(\"mortgage_application_ag\")\n",
    "# agents.delete_agent(\"mortgage_application_agent\")"
   ]
  }
 ],
 "metadata": {
  "availableInstances": [
   {
    "_defaultOrder": 0,
    "_isFastLaunch": true,
    "category": "General purpose",
    "gpuNum": 0,
    "hideHardwareSpecs": false,
    "memoryGiB": 4,
    "name": "ml.t3.medium",
    "vcpuNum": 2
   },
   {
    "_defaultOrder": 1,
    "_isFastLaunch": false,
    "category": "General purpose",
    "gpuNum": 0,
    "hideHardwareSpecs": false,
    "memoryGiB": 8,
    "name": "ml.t3.large",
    "vcpuNum": 2
   },
   {
    "_defaultOrder": 2,
    "_isFastLaunch": false,
    "category": "General purpose",
    "gpuNum": 0,
    "hideHardwareSpecs": false,
    "memoryGiB": 16,
    "name": "ml.t3.xlarge",
    "vcpuNum": 4
   },
   {
    "_defaultOrder": 3,
    "_isFastLaunch": false,
    "category": "General purpose",
    "gpuNum": 0,
    "hideHardwareSpecs": false,
    "memoryGiB": 32,
    "name": "ml.t3.2xlarge",
    "vcpuNum": 8
   },
   {
    "_defaultOrder": 4,
    "_isFastLaunch": true,
    "category": "General purpose",
    "gpuNum": 0,
    "hideHardwareSpecs": false,
    "memoryGiB": 8,
    "name": "ml.m5.large",
    "vcpuNum": 2
   },
   {
    "_defaultOrder": 5,
    "_isFastLaunch": false,
    "category": "General purpose",
    "gpuNum": 0,
    "hideHardwareSpecs": false,
    "memoryGiB": 16,
    "name": "ml.m5.xlarge",
    "vcpuNum": 4
   },
   {
    "_defaultOrder": 6,
    "_isFastLaunch": false,
    "category": "General purpose",
    "gpuNum": 0,
    "hideHardwareSpecs": false,
    "memoryGiB": 32,
    "name": "ml.m5.2xlarge",
    "vcpuNum": 8
   },
   {
    "_defaultOrder": 7,
    "_isFastLaunch": false,
    "category": "General purpose",
    "gpuNum": 0,
    "hideHardwareSpecs": false,
    "memoryGiB": 64,
    "name": "ml.m5.4xlarge",
    "vcpuNum": 16
   },
   {
    "_defaultOrder": 8,
    "_isFastLaunch": false,
    "category": "General purpose",
    "gpuNum": 0,
    "hideHardwareSpecs": false,
    "memoryGiB": 128,
    "name": "ml.m5.8xlarge",
    "vcpuNum": 32
   },
   {
    "_defaultOrder": 9,
    "_isFastLaunch": false,
    "category": "General purpose",
    "gpuNum": 0,
    "hideHardwareSpecs": false,
    "memoryGiB": 192,
    "name": "ml.m5.12xlarge",
    "vcpuNum": 48
   },
   {
    "_defaultOrder": 10,
    "_isFastLaunch": false,
    "category": "General purpose",
    "gpuNum": 0,
    "hideHardwareSpecs": false,
    "memoryGiB": 256,
    "name": "ml.m5.16xlarge",
    "vcpuNum": 64
   },
   {
    "_defaultOrder": 11,
    "_isFastLaunch": false,
    "category": "General purpose",
    "gpuNum": 0,
    "hideHardwareSpecs": false,
    "memoryGiB": 384,
    "name": "ml.m5.24xlarge",
    "vcpuNum": 96
   },
   {
    "_defaultOrder": 12,
    "_isFastLaunch": false,
    "category": "General purpose",
    "gpuNum": 0,
    "hideHardwareSpecs": false,
    "memoryGiB": 8,
    "name": "ml.m5d.large",
    "vcpuNum": 2
   },
   {
    "_defaultOrder": 13,
    "_isFastLaunch": false,
    "category": "General purpose",
    "gpuNum": 0,
    "hideHardwareSpecs": false,
    "memoryGiB": 16,
    "name": "ml.m5d.xlarge",
    "vcpuNum": 4
   },
   {
    "_defaultOrder": 14,
    "_isFastLaunch": false,
    "category": "General purpose",
    "gpuNum": 0,
    "hideHardwareSpecs": false,
    "memoryGiB": 32,
    "name": "ml.m5d.2xlarge",
    "vcpuNum": 8
   },
   {
    "_defaultOrder": 15,
    "_isFastLaunch": false,
    "category": "General purpose",
    "gpuNum": 0,
    "hideHardwareSpecs": false,
    "memoryGiB": 64,
    "name": "ml.m5d.4xlarge",
    "vcpuNum": 16
   },
   {
    "_defaultOrder": 16,
    "_isFastLaunch": false,
    "category": "General purpose",
    "gpuNum": 0,
    "hideHardwareSpecs": false,
    "memoryGiB": 128,
    "name": "ml.m5d.8xlarge",
    "vcpuNum": 32
   },
   {
    "_defaultOrder": 17,
    "_isFastLaunch": false,
    "category": "General purpose",
    "gpuNum": 0,
    "hideHardwareSpecs": false,
    "memoryGiB": 192,
    "name": "ml.m5d.12xlarge",
    "vcpuNum": 48
   },
   {
    "_defaultOrder": 18,
    "_isFastLaunch": false,
    "category": "General purpose",
    "gpuNum": 0,
    "hideHardwareSpecs": false,
    "memoryGiB": 256,
    "name": "ml.m5d.16xlarge",
    "vcpuNum": 64
   },
   {
    "_defaultOrder": 19,
    "_isFastLaunch": false,
    "category": "General purpose",
    "gpuNum": 0,
    "hideHardwareSpecs": false,
    "memoryGiB": 384,
    "name": "ml.m5d.24xlarge",
    "vcpuNum": 96
   },
   {
    "_defaultOrder": 20,
    "_isFastLaunch": false,
    "category": "General purpose",
    "gpuNum": 0,
    "hideHardwareSpecs": true,
    "memoryGiB": 0,
    "name": "ml.geospatial.interactive",
    "supportedImageNames": [
     "sagemaker-geospatial-v1-0"
    ],
    "vcpuNum": 0
   },
   {
    "_defaultOrder": 21,
    "_isFastLaunch": true,
    "category": "Compute optimized",
    "gpuNum": 0,
    "hideHardwareSpecs": false,
    "memoryGiB": 4,
    "name": "ml.c5.large",
    "vcpuNum": 2
   },
   {
    "_defaultOrder": 22,
    "_isFastLaunch": false,
    "category": "Compute optimized",
    "gpuNum": 0,
    "hideHardwareSpecs": false,
    "memoryGiB": 8,
    "name": "ml.c5.xlarge",
    "vcpuNum": 4
   },
   {
    "_defaultOrder": 23,
    "_isFastLaunch": false,
    "category": "Compute optimized",
    "gpuNum": 0,
    "hideHardwareSpecs": false,
    "memoryGiB": 16,
    "name": "ml.c5.2xlarge",
    "vcpuNum": 8
   },
   {
    "_defaultOrder": 24,
    "_isFastLaunch": false,
    "category": "Compute optimized",
    "gpuNum": 0,
    "hideHardwareSpecs": false,
    "memoryGiB": 32,
    "name": "ml.c5.4xlarge",
    "vcpuNum": 16
   },
   {
    "_defaultOrder": 25,
    "_isFastLaunch": false,
    "category": "Compute optimized",
    "gpuNum": 0,
    "hideHardwareSpecs": false,
    "memoryGiB": 72,
    "name": "ml.c5.9xlarge",
    "vcpuNum": 36
   },
   {
    "_defaultOrder": 26,
    "_isFastLaunch": false,
    "category": "Compute optimized",
    "gpuNum": 0,
    "hideHardwareSpecs": false,
    "memoryGiB": 96,
    "name": "ml.c5.12xlarge",
    "vcpuNum": 48
   },
   {
    "_defaultOrder": 27,
    "_isFastLaunch": false,
    "category": "Compute optimized",
    "gpuNum": 0,
    "hideHardwareSpecs": false,
    "memoryGiB": 144,
    "name": "ml.c5.18xlarge",
    "vcpuNum": 72
   },
   {
    "_defaultOrder": 28,
    "_isFastLaunch": false,
    "category": "Compute optimized",
    "gpuNum": 0,
    "hideHardwareSpecs": false,
    "memoryGiB": 192,
    "name": "ml.c5.24xlarge",
    "vcpuNum": 96
   },
   {
    "_defaultOrder": 29,
    "_isFastLaunch": true,
    "category": "Accelerated computing",
    "gpuNum": 1,
    "hideHardwareSpecs": false,
    "memoryGiB": 16,
    "name": "ml.g4dn.xlarge",
    "vcpuNum": 4
   },
   {
    "_defaultOrder": 30,
    "_isFastLaunch": false,
    "category": "Accelerated computing",
    "gpuNum": 1,
    "hideHardwareSpecs": false,
    "memoryGiB": 32,
    "name": "ml.g4dn.2xlarge",
    "vcpuNum": 8
   },
   {
    "_defaultOrder": 31,
    "_isFastLaunch": false,
    "category": "Accelerated computing",
    "gpuNum": 1,
    "hideHardwareSpecs": false,
    "memoryGiB": 64,
    "name": "ml.g4dn.4xlarge",
    "vcpuNum": 16
   },
   {
    "_defaultOrder": 32,
    "_isFastLaunch": false,
    "category": "Accelerated computing",
    "gpuNum": 1,
    "hideHardwareSpecs": false,
    "memoryGiB": 128,
    "name": "ml.g4dn.8xlarge",
    "vcpuNum": 32
   },
   {
    "_defaultOrder": 33,
    "_isFastLaunch": false,
    "category": "Accelerated computing",
    "gpuNum": 4,
    "hideHardwareSpecs": false,
    "memoryGiB": 192,
    "name": "ml.g4dn.12xlarge",
    "vcpuNum": 48
   },
   {
    "_defaultOrder": 34,
    "_isFastLaunch": false,
    "category": "Accelerated computing",
    "gpuNum": 1,
    "hideHardwareSpecs": false,
    "memoryGiB": 256,
    "name": "ml.g4dn.16xlarge",
    "vcpuNum": 64
   },
   {
    "_defaultOrder": 35,
    "_isFastLaunch": false,
    "category": "Accelerated computing",
    "gpuNum": 1,
    "hideHardwareSpecs": false,
    "memoryGiB": 61,
    "name": "ml.p3.2xlarge",
    "vcpuNum": 8
   },
   {
    "_defaultOrder": 36,
    "_isFastLaunch": false,
    "category": "Accelerated computing",
    "gpuNum": 4,
    "hideHardwareSpecs": false,
    "memoryGiB": 244,
    "name": "ml.p3.8xlarge",
    "vcpuNum": 32
   },
   {
    "_defaultOrder": 37,
    "_isFastLaunch": false,
    "category": "Accelerated computing",
    "gpuNum": 8,
    "hideHardwareSpecs": false,
    "memoryGiB": 488,
    "name": "ml.p3.16xlarge",
    "vcpuNum": 64
   },
   {
    "_defaultOrder": 38,
    "_isFastLaunch": false,
    "category": "Accelerated computing",
    "gpuNum": 8,
    "hideHardwareSpecs": false,
    "memoryGiB": 768,
    "name": "ml.p3dn.24xlarge",
    "vcpuNum": 96
   },
   {
    "_defaultOrder": 39,
    "_isFastLaunch": false,
    "category": "Memory Optimized",
    "gpuNum": 0,
    "hideHardwareSpecs": false,
    "memoryGiB": 16,
    "name": "ml.r5.large",
    "vcpuNum": 2
   },
   {
    "_defaultOrder": 40,
    "_isFastLaunch": false,
    "category": "Memory Optimized",
    "gpuNum": 0,
    "hideHardwareSpecs": false,
    "memoryGiB": 32,
    "name": "ml.r5.xlarge",
    "vcpuNum": 4
   },
   {
    "_defaultOrder": 41,
    "_isFastLaunch": false,
    "category": "Memory Optimized",
    "gpuNum": 0,
    "hideHardwareSpecs": false,
    "memoryGiB": 64,
    "name": "ml.r5.2xlarge",
    "vcpuNum": 8
   },
   {
    "_defaultOrder": 42,
    "_isFastLaunch": false,
    "category": "Memory Optimized",
    "gpuNum": 0,
    "hideHardwareSpecs": false,
    "memoryGiB": 128,
    "name": "ml.r5.4xlarge",
    "vcpuNum": 16
   },
   {
    "_defaultOrder": 43,
    "_isFastLaunch": false,
    "category": "Memory Optimized",
    "gpuNum": 0,
    "hideHardwareSpecs": false,
    "memoryGiB": 256,
    "name": "ml.r5.8xlarge",
    "vcpuNum": 32
   },
   {
    "_defaultOrder": 44,
    "_isFastLaunch": false,
    "category": "Memory Optimized",
    "gpuNum": 0,
    "hideHardwareSpecs": false,
    "memoryGiB": 384,
    "name": "ml.r5.12xlarge",
    "vcpuNum": 48
   },
   {
    "_defaultOrder": 45,
    "_isFastLaunch": false,
    "category": "Memory Optimized",
    "gpuNum": 0,
    "hideHardwareSpecs": false,
    "memoryGiB": 512,
    "name": "ml.r5.16xlarge",
    "vcpuNum": 64
   },
   {
    "_defaultOrder": 46,
    "_isFastLaunch": false,
    "category": "Memory Optimized",
    "gpuNum": 0,
    "hideHardwareSpecs": false,
    "memoryGiB": 768,
    "name": "ml.r5.24xlarge",
    "vcpuNum": 96
   },
   {
    "_defaultOrder": 47,
    "_isFastLaunch": false,
    "category": "Accelerated computing",
    "gpuNum": 1,
    "hideHardwareSpecs": false,
    "memoryGiB": 16,
    "name": "ml.g5.xlarge",
    "vcpuNum": 4
   },
   {
    "_defaultOrder": 48,
    "_isFastLaunch": false,
    "category": "Accelerated computing",
    "gpuNum": 1,
    "hideHardwareSpecs": false,
    "memoryGiB": 32,
    "name": "ml.g5.2xlarge",
    "vcpuNum": 8
   },
   {
    "_defaultOrder": 49,
    "_isFastLaunch": false,
    "category": "Accelerated computing",
    "gpuNum": 1,
    "hideHardwareSpecs": false,
    "memoryGiB": 64,
    "name": "ml.g5.4xlarge",
    "vcpuNum": 16
   },
   {
    "_defaultOrder": 50,
    "_isFastLaunch": false,
    "category": "Accelerated computing",
    "gpuNum": 1,
    "hideHardwareSpecs": false,
    "memoryGiB": 128,
    "name": "ml.g5.8xlarge",
    "vcpuNum": 32
   },
   {
    "_defaultOrder": 51,
    "_isFastLaunch": false,
    "category": "Accelerated computing",
    "gpuNum": 1,
    "hideHardwareSpecs": false,
    "memoryGiB": 256,
    "name": "ml.g5.16xlarge",
    "vcpuNum": 64
   },
   {
    "_defaultOrder": 52,
    "_isFastLaunch": false,
    "category": "Accelerated computing",
    "gpuNum": 4,
    "hideHardwareSpecs": false,
    "memoryGiB": 192,
    "name": "ml.g5.12xlarge",
    "vcpuNum": 48
   },
   {
    "_defaultOrder": 53,
    "_isFastLaunch": false,
    "category": "Accelerated computing",
    "gpuNum": 4,
    "hideHardwareSpecs": false,
    "memoryGiB": 384,
    "name": "ml.g5.24xlarge",
    "vcpuNum": 96
   },
   {
    "_defaultOrder": 54,
    "_isFastLaunch": false,
    "category": "Accelerated computing",
    "gpuNum": 8,
    "hideHardwareSpecs": false,
    "memoryGiB": 768,
    "name": "ml.g5.48xlarge",
    "vcpuNum": 192
   },
   {
    "_defaultOrder": 55,
    "_isFastLaunch": false,
    "category": "Accelerated computing",
    "gpuNum": 8,
    "hideHardwareSpecs": false,
    "memoryGiB": 1152,
    "name": "ml.p4d.24xlarge",
    "vcpuNum": 96
   },
   {
    "_defaultOrder": 56,
    "_isFastLaunch": false,
    "category": "Accelerated computing",
    "gpuNum": 8,
    "hideHardwareSpecs": false,
    "memoryGiB": 1152,
    "name": "ml.p4de.24xlarge",
    "vcpuNum": 96
   },
   {
    "_defaultOrder": 57,
    "_isFastLaunch": false,
    "category": "Accelerated computing",
    "gpuNum": 0,
    "hideHardwareSpecs": false,
    "memoryGiB": 32,
    "name": "ml.trn1.2xlarge",
    "vcpuNum": 8
   },
   {
    "_defaultOrder": 58,
    "_isFastLaunch": false,
    "category": "Accelerated computing",
    "gpuNum": 0,
    "hideHardwareSpecs": false,
    "memoryGiB": 512,
    "name": "ml.trn1.32xlarge",
    "vcpuNum": 128
   },
   {
    "_defaultOrder": 59,
    "_isFastLaunch": false,
    "category": "Accelerated computing",
    "gpuNum": 0,
    "hideHardwareSpecs": false,
    "memoryGiB": 512,
    "name": "ml.trn1n.32xlarge",
    "vcpuNum": 128
   }
  ],
  "instance_type": "ml.t3.medium",
  "kernelspec": {
   "display_name": "Python 3 (ipykernel)",
   "language": "python",
   "name": "python3"
  },
  "language_info": {
   "codemirror_mode": {
    "name": "ipython",
    "version": 3
   },
   "file_extension": ".py",
   "mimetype": "text/x-python",
   "name": "python",
   "nbconvert_exporter": "python",
   "pygments_lexer": "ipython3",
   "version": "3.10.14"
  }
 },
 "nbformat": 4,
 "nbformat_minor": 5
}
