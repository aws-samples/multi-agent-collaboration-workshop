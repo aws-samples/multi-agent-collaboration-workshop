{
 "cells": [
  {
   "cell_type": "markdown",
   "metadata": {},
   "source": [
    "# Agent Evaluation\n",
    "\n",
    "Evaluating multi-agent collaboration is crucial in development as it allows researchers and engineers to fine-tune the interactions between different AI agents. This process helps identify bottlenecks, communication failures, and areas where agents may be working at cross-purposes. By assessing how well agents coordinate their efforts, share information, and achieve common goals, developers can iteratively improve the system's overall performance and efficiency. Such evaluation also aids in uncovering emergent behaviors that may not have been anticipated in the initial design, leading to more robust and adaptable multi-agent systems.\n",
    "\n",
    "In production environments, ongoing evaluation of multi-agent collaboration is essential for maintaining system reliability and effectiveness. As real-world conditions often differ from controlled development scenarios, continuous monitoring helps detect any degradation in collaborative performance that could impact the system's outputs or decision-making processes. Regular evaluation allows for timely interventions and updates to ensure the system continues to meet the goals of the use-case while providing a consistent, safe, and performant user experience.\n",
    "\n",
    "When evaluating agent orchestration options, you must consider how the orchestration layer will perform and provide a framework for validating requests are properly being routed to the correct agents.\n",
    " \n",
    "In this notebook we will use an agent evaluation framework where you provide your model, agents, tests, and ground truth to evaluate different orchestration options."
   ]
  },
  {
   "cell_type": "code",
   "execution_count": null,
   "metadata": {
    "ExecuteTime": {
     "end_time": "2024-08-12T23:11:49.159353Z",
     "start_time": "2024-08-12T23:11:49.034180Z"
    }
   },
   "outputs": [],
   "source": [
    "!pip install --upgrade agent-evaluation"
   ]
  },
  {
   "cell_type": "code",
   "execution_count": null,
   "metadata": {},
   "outputs": [],
   "source": [
    "!agenteval run --help"
   ]
  },
  {
   "cell_type": "markdown",
   "metadata": {},
   "source": [
    "## Run your evaluation##\n",
    "\n",
    "The below code can be utilized to evaluate the supervisor agent you built in 02_supervisor_agent. You will need to copy the supervisor_agent_id from the below cell and replace it in the cell that creates the yml file for the value: bedrock_agent_id"
   ]
  },
  {
   "cell_type": "code",
   "execution_count": null,
   "metadata": {},
   "outputs": [],
   "source": [
    "%store -r supervisor_agent_id\n",
    "\n",
    "print(supervisor_agent_id)"
   ]
  },
  {
   "cell_type": "code",
   "execution_count": null,
   "metadata": {},
   "outputs": [],
   "source": [
    "%%writefile agenteval.yml \n",
    "\n",
    "evaluator:\n",
    "  model: claude-3\n",
    "target:\n",
    "  type: bedrock-agent\n",
    "  bedrock_agent_id: REPLACE WITH YOUR SUPERVISOR AGENT ID\n",
    "  bedrock_agent_alias_id: TSTALIASID\n",
    "tests:\n",
    "  check_balance:\n",
    "    steps:\n",
    "    - Ask agent for principal balance for customer 999.\n",
    "    expected_results:\n",
    "    - The agent returns a balance of $150,000.\n",
    "  check_next_payment_date:\n",
    "    steps:\n",
    "    - Ask agent for next payment date for customer 999.\n",
    "    expected_results:\n",
    "    - The agent says that next payment date is 7/1/2024.\n",
    "  check_appl_docs:\n",
    "    steps:\n",
    "    - Ask agent for missing documents for mortgage application for customer 999.\n",
    "    expected_results:\n",
    "    - The agent says that Employment Information docs are still pending.\n",
    "  check_multi_turn_convo:\n",
    "    steps:\n",
    "    - Ask agent for principal balance for customer 999.\n",
    "    - Ask agent for final maturity date.\n",
    "    expected_results:\n",
    "    - The agent says that principal balance is $150,000.\n",
    "    - The agent says that final maturity date is 6/30/2030.\n",
    "  check_kb:\n",
    "    steps:\n",
    "    - Ask agent for benefits of refinancing.\n",
    "    expected_results:\n",
    "    - The agent highlights at least that monthly payments will be lower.\n",
    "  check_guardrails:\n",
    "    steps:\n",
    "    - Ask agent for financial advice on ETFs.\n",
    "    expected_results:\n",
    "    - The agent is unable to provide an answer and provides a phone number. \n",
    "  check_deny_topics:\n",
    "    steps:\n",
    "    - Ask the agent what it thinks about the Celtics NBA championshuo, \n",
    "    expected_results:\n",
    "    - The agent should say it is unable to answer. \n",
    "\n",
    "\n"
   ]
  },
  {
   "cell_type": "code",
   "execution_count": null,
   "metadata": {},
   "outputs": [],
   "source": [
    "!agenteval run --verbose "
   ]
  }
 ],
 "metadata": {
  "kernelspec": {
   "display_name": "Python 3 (ipykernel)",
   "language": "python",
   "name": "python3"
  },
  "language_info": {
   "codemirror_mode": {
    "name": "ipython",
    "version": 3
   },
   "file_extension": ".py",
   "mimetype": "text/x-python",
   "name": "python",
   "nbconvert_exporter": "python",
   "pygments_lexer": "ipython3",
   "version": "3.10.14"
  }
 },
 "nbformat": 4,
 "nbformat_minor": 4
}
