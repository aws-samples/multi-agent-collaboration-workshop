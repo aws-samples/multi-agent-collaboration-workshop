{
 "cells": [
  {
   "metadata": {},
   "cell_type": "markdown",
   "source": [
    "# Create Sub-agents and Knowledge Base\n",
    "\n",
    "Sub-agents play a crucial role in multi-agent collaboration within Large Language Models (LLMs), enhancing their problem-solving capabilities and efficiency. These specialized components within the larger system are designed to handle specific tasks or domains, allowing for a more modular and focused approach to complex problems. By dividing responsibilities among sub-agents, LLMs can tackle multifaceted challenges more effectively, leveraging the unique strengths and expertise of each sub-agent.Furthermore, sub-agents facilitate better scalability and adaptability, as new functionalities can be added or existing ones modified without overhauling the entire system. The interaction and coordination between sub-agents also promote emergent behaviors and solutions that may not be achievable by a single, monolithic agent. This collaborative approach mirrors human teamwork, where diverse skills and perspectives combine to achieve superior outcomes. \n",
    "\n",
    "In this first lab you will be creating two agents and one Knowledge Base. The first agent will handle questions regarding existing mortgages. The second agent will handle applications for a new mortgage. The Knowledge Base you create will handle any general mortgage or refinancing related questions. This lab follows the below high-level steps:\n",
    "\n",
    "* Create a Knowledge Base (KB) using [Knowledge Bases for Amazon Bedrock]\n",
    "\n",
    "* Create sample Knowledge Base documents and upload them to the Knowledge Base\n",
    "\n",
    "* Create the agent for managing existing mortgages and supporting AWS Lambda function\n",
    "\n",
    "* Create the agent for handling new mortgage applications and supporting AWS Lambda function\n",
    "\n",
    "* Provide session context to the agents\n",
    "\n",
    "* Test agent responses\n",
    "\n",
    "* Measure latency of a single agent\n",
    "\n"
   ],
   "id": "8890fb7966ed2cd3"
  },
  {
   "cell_type": "markdown",
   "id": "4fa67d7a",
   "metadata": {
    "pycharm": {
     "name": "#%% md\n"
    }
   },
   "source": [
    "First step is to install the pre-requisites packages. NOTE: You only need to do this is this is the first notebook you are running. "
   ]
  },
  {
   "cell_type": "code",
   "execution_count": 1,
   "id": "ac05c073-d45b-4d85-9bf8-ae10aa78be8d",
   "metadata": {
    "pycharm": {
     "name": "#%%\n"
    },
    "tags": []
   },
   "outputs": [],
   "source": [
    "# !pip install --upgrade -q -r requirements.txt\n",
    "# !pip install --upgrade boto3 botocore "
   ]
  },
  {
   "cell_type": "code",
   "execution_count": 1,
   "id": "245cd999",
   "metadata": {},
   "outputs": [
    {
     "data": {
      "text/html": [
       "<script>Jupyter.notebook.kernel.restart()</script>"
      ],
      "text/plain": [
       "<IPython.core.display.HTML object>"
      ]
     },
     "execution_count": 1,
     "metadata": {},
     "output_type": "execute_result"
    }
   ],
   "source": [
    "# restart kernel for packages to take effect\n",
    "from IPython.core.display import HTML\n",
    "HTML(\"<script>Jupyter.notebook.kernel.restart()</script>\")"
   ]
  },
  {
   "cell_type": "code",
   "execution_count": 2,
   "id": "86e1817e",
   "metadata": {},
   "outputs": [
    {
     "data": {
      "text/plain": [
       "'1.34.143'"
      ]
     },
     "execution_count": 2,
     "metadata": {},
     "output_type": "execute_result"
    }
   ],
   "source": [
    "import boto3 \n",
    "boto3.__version__"
   ]
  },
  {
   "cell_type": "code",
   "execution_count": 3,
   "id": "e8ad6ec2-b283-4c5d-879f-e397e46568c0",
   "metadata": {
    "pycharm": {
     "name": "#%%\n"
    },
    "tags": []
   },
   "outputs": [],
   "source": [
    "import os\n",
    "import time\n",
    "import boto3\n",
    "import logging\n",
    "import botocore\n",
    "import json\n",
    "\n",
    "%load_ext autoreload\n",
    "%autoreload 2\n",
    "\n",
    "from knowledge_base import BedrockKnowledgeBase\n",
    "from agent import AgentsForAmazonBedrock"
   ]
  },
  {
   "cell_type": "code",
   "execution_count": 4,
   "id": "a30f6ace",
   "metadata": {},
   "outputs": [],
   "source": [
    "agents = AgentsForAmazonBedrock()"
   ]
  },
  {
   "cell_type": "code",
   "execution_count": 5,
   "id": "d2b2d607-c1f2-4cbb-9f89-d935676e0101",
   "metadata": {
    "pycharm": {
     "name": "#%%\n"
    },
    "tags": []
   },
   "outputs": [],
   "source": [
    "#Clients\n",
    "s3_client = boto3.client('s3')\n",
    "sts_client = boto3.client('sts')\n",
    "bedrock_agent_client = boto3.client('bedrock-agent')\n",
    "bedrock_agent_runtime_client = boto3.client('bedrock-agent-runtime')\n",
    "bedrockruntime_client = boto3.client('bedrock-runtime')\n",
    "\n",
    "logging.basicConfig(format='[%(asctime)s] p%(process)s {%(filename)s:%(lineno)d} %(levelname)s - %(message)s', level=logging.INFO)\n",
    "logger = logging.getLogger(__name__)"
   ]
  },
  {
   "cell_type": "code",
   "execution_count": 6,
   "id": "d647d2a3",
   "metadata": {
    "pycharm": {
     "name": "#%%\n"
    },
    "tags": []
   },
   "outputs": [],
   "source": [
    "region = agents.get_region()\n",
    "account_id = sts_client.get_caller_identity()[\"Account\"]\n",
    "\n",
    "suffix = f\"{region}-{account_id}\"\n",
    "bucket_name = f'mac-workshop-{suffix}'\n",
    "agent_foundation_models = [ \n",
    "    \"anthropic.claude-3-haiku-20240307-v1:0\",\n",
    "    \"anthropic.claude-3-sonnet-20240229-v1:0\"\n",
    "    ]"
   ]
  },
  {
   "cell_type": "markdown",
   "id": "38c38fcb-9b87-414e-a644-04c263eea5c9",
   "metadata": {
    "pycharm": {
     "name": "#%% md\n"
    }
   },
   "source": [
    "## 1. Create Knowledge Base \n",
    "Let's start by creating a [Knowledge Base for Amazon Bedrock](https://aws.amazon.com/bedrock/knowledge-bases/) \n",
    "to provide knowledge about mortgages. Knowledge Bases allow you to integrate with different vector databases including [Amazon OpenSearch Serverless](https://aws.amazon.com/opensearch-service/features/serverless/), [Amazon Aurora](https://aws.amazon.com/rds/aurora/) and [Pinecone](http://app.pinecone.io/bedrock-integration). For this example, we will integrate the knowledge base with Amazon OpenSearch Serverless. To do so, we will use the helper class `BedrockKnowledgeBase` which creates the knowledge base and all of its prerequisites:\n",
    "1. IAM roles and policies\n",
    "2. S3 bucket\n",
    "3. Amazon OpenSearch Serverless encryption, network and data access policies\n",
    "4. Amazon OpenSearch Serverless collection\n",
    "5. Amazon OpenSearch Serverless vector index\n",
    "6. Knowledge Base\n",
    "7. Knowledge Base data source"
   ]
  },
  {
   "cell_type": "code",
   "execution_count": null,
   "id": "2c39c2d9-7965-4c22-a74b-65d1961c4166",
   "metadata": {
    "pycharm": {
     "name": "#%%\n"
    },
    "tags": []
   },
   "outputs": [],
   "source": [
    "knowledge_base = BedrockKnowledgeBase(\n",
    "    kb_name=\"general-mortgage-kb\",\n",
    "    kb_description=\"Useful for answering questions about mortgage refinancing and for questions comparing various mortgage types\",\n",
    "    data_bucket_name=bucket_name\n",
    ")"
   ]
  },
  {
   "cell_type": "markdown",
   "id": "c6b5819d-93a9-44d3-8eaa-5ed1da6a8c95",
   "metadata": {
    "pycharm": {
     "name": "#%% md\n"
    }
   },
   "source": [
    "### Create sample KB documents and upload the dataset to Amazon S3\n",
    "Now that we have created the knowledge base, let's populate it with some mortgage knowledge. We will first utilize Anthropic Claude to create a sample document that describes the topic of refinancing and different types of mortgages. The Knowledge Base data source expects the data to be available on the S3 bucket connected to it and changes on the data can be syncronized to the knowledge base using the `Ingest` API call. In this example we will use the [boto3 abstraction](https://boto3.amazonaws.com/v1/documentation/api/latest/reference/services/bedrock-agent/client/start_ingestion_job.html) of the API, via our helper class. \n",
    "\n",
    "Let's create our sample document and then upload it to S3 so it can be ingested into the knowledge base. "
   ]
  },
  {
   "cell_type": "code",
   "execution_count": 8,
   "id": "bfb7e0b2",
   "metadata": {},
   "outputs": [],
   "source": [
    "# create the prompt\n",
    "prompt= \"Create a document of about 4 pages long that discusses the topic of refinancing a mortgage and 15 vs 30 year mortgage. Please organize the subtopics to flow logically and have separate sections. Make sure each section includes all relevant details that may be important. Clearly illustrate the pros and cons of refinancing and also the differences between a 15 and 30 year mortgage. Only output the text and not any additional info like metadata about the document.\""
   ]
  },
  {
   "cell_type": "code",
   "execution_count": 9,
   "id": "78733924",
   "metadata": {},
   "outputs": [],
   "source": [
    "body = json.dumps({\"prompt\": prompt})\n",
    "# modelId = 'amazon.titan-text-premier-v1:0' # Make sure Titan text premier is available in the account you are doing this workhsop in before uncommenting!\n",
    "modelId = \"anthropic.claude-3-haiku-20240307-v1:0\"\n",
    "\n",
    "native_request = {\n",
    "    \"anthropic_version\": \"bedrock-2023-05-31\",\n",
    "    \"max_tokens\": 2000,\n",
    "    \"temperature\": 0,\n",
    "    \"messages\": [\n",
    "        {\n",
    "            \"role\": \"user\",\n",
    "            \"content\": [{\"type\": \"text\", \"text\": prompt}],\n",
    "        }\n",
    "    ],\n",
    "}\n",
    "\n",
    "request = json.dumps(native_request)\n",
    "\n",
    "try:\n",
    "    # Invoke the model with the request.\n",
    "    response = bedrockruntime_client.invoke_model(modelId=modelId, body=request)\n",
    "    \n",
    "except Exception as e:\n",
    "    print(f\"ERROR: Can't invoke '{modelId}'. Reason: {e}\")\n",
    "    exit(1)\n",
    "\n",
    "model_response = json.loads(response[\"body\"].read())\n",
    "response_text = model_response[\"content\"][0][\"text\"]"
   ]
  },
  {
   "cell_type": "code",
   "execution_count": null,
   "id": "cdf92b1f",
   "metadata": {},
   "outputs": [],
   "source": [
    "import os\n",
    "if os.path.exists(\"mortgage_dataset\") == True:\n",
    "    print(\"Already exists, please move forward\")\n",
    "else: \n",
    "    os.makedirs(\"mortgage_dataset\")"
   ]
  },
  {
   "cell_type": "code",
   "execution_count": 11,
   "id": "a0f08ccc",
   "metadata": {},
   "outputs": [],
   "source": [
    "with open('mortgage_dataset/kb.txt', 'w+') as kb:\n",
    "    kb.write(response_text)\n",
    "    kb.close()"
   ]
  },
  {
   "cell_type": "code",
   "execution_count": null,
   "id": "ceecf498-e42e-4fdd-ad2e-e646a4ef4adb",
   "metadata": {
    "pycharm": {
     "name": "#%%\n"
    },
    "tags": []
   },
   "outputs": [],
   "source": [
    "def upload_directory(path, bucket_name):\n",
    "        for root,dirs,files in os.walk(path):\n",
    "            for file in files:\n",
    "                file_to_upload = os.path.join(root,file)\n",
    "                print(f\"uploading file {file_to_upload} to {bucket_name}\")\n",
    "                s3_client.upload_file(file_to_upload,bucket_name,file)\n",
    "\n",
    "upload_directory(\"mortgage_dataset\", bucket_name)"
   ]
  },
  {
   "cell_type": "markdown",
   "id": "48e46273-0267-4ecb-a686-2b1694b5a604",
   "metadata": {
    "pycharm": {
     "name": "#%% md\n"
    }
   },
   "source": [
    "Now we ingest the documents, which chunks the source documents and stores an embedding for each chunk into the underying \n",
    "knowledge base vector store. For a simple example, this ingestion takes a couple minutes. "
   ]
  },
  {
   "cell_type": "code",
   "execution_count": null,
   "id": "1bb7a9bc-5bba-4066-8fa3-a4c5a1385e95",
   "metadata": {
    "pycharm": {
     "name": "#%%\n"
    },
    "tags": []
   },
   "outputs": [],
   "source": [
    "# ensure that the kb is available\n",
    "time.sleep(30)\n",
    "# sync knowledge base\n",
    "knowledge_base.start_ingestion_job()"
   ]
  },
  {
   "cell_type": "markdown",
   "id": "9c85cbee-9359-4927-ae16-fa7af42cf981",
   "metadata": {
    "pycharm": {
     "name": "#%% md\n"
    }
   },
   "source": [
    "Finally we collect the Knowledge Base Id to integrate it with our Agent later on"
   ]
  },
  {
   "cell_type": "code",
   "execution_count": 14,
   "id": "b808ddc4",
   "metadata": {},
   "outputs": [],
   "source": [
    "from knowledge_base import BedrockKnowledgeBaseHelper\n",
    "helper = BedrockKnowledgeBaseHelper()\n",
    "kb_id = helper.get_kb()\n",
    "kb_arn = f\"arn:aws:bedrock:{region}:{account_id}:knowledge-base/{kb_id}\""
   ]
  },
  {
   "cell_type": "code",
   "execution_count": null,
   "id": "c8b69497",
   "metadata": {},
   "outputs": [],
   "source": [
    "kb_id "
   ]
  },
  {
   "cell_type": "markdown",
   "id": "315e0df7-4008-4fb4-b28d-a4df6ff446f6",
   "metadata": {
    "pycharm": {
     "name": "#%% md\n"
    }
   },
   "source": [
    "### Test the Knowledge Base\n",
    "Now the Knowledge Base is available we can test it out using the [**retrieve**](https://boto3.amazonaws.com/v1/documentation/api/latest/reference/services/bedrock-agent-runtime/client/retrieve.html) and [**retrieve_and_generate**](https://boto3.amazonaws.com/v1/documentation/api/latest/reference/services/bedrock-agent-runtime/client/retrieve_and_generate.html) functions. \n",
    "\n",
    "#### Testing Knowledge Base with Retrieve and Generate API\n",
    "\n",
    "Let's first test the knowledge base using the retrieve and generate API. With this API, Bedrock takes care of retrieving the necessary references from the knowledge base and generating the final answer using a Bedrock LLM."
   ]
  },
  {
   "cell_type": "code",
   "execution_count": null,
   "id": "f51d34d9",
   "metadata": {},
   "outputs": [],
   "source": [
    "response = bedrock_agent_runtime_client.retrieve_and_generate(\n",
    "    input={\n",
    "        \"text\": \"compare and contrast 15-year vs 30-year mortgage type\"\n",
    "    },\n",
    "    retrieveAndGenerateConfiguration={\n",
    "        \"type\": \"KNOWLEDGE_BASE\",\n",
    "        \"knowledgeBaseConfiguration\": {\n",
    "            'knowledgeBaseId': kb_id,\n",
    "            \"modelArn\": f\"arn:aws:bedrock:{region}::foundation-model/{agent_foundation_models[0]}\",\n",
    "            \"retrievalConfiguration\": {\n",
    "                \"vectorSearchConfiguration\": {\n",
    "                    \"numberOfResults\":5\n",
    "                } \n",
    "            }\n",
    "        }\n",
    "    }\n",
    ")\n",
    "\n",
    "print(response['output']['text'],end='\\n'*2)"
   ]
  },
  {
   "cell_type": "markdown",
   "id": "e6e4235c",
   "metadata": {},
   "source": [
    "As you can see, with the retrieve and generate API we get the final response directly and we don't see the different sources used to generate this response. Let's now retrieve the source information from the knowledge base with the retrieve API.\n",
    "\n",
    "#### Testing Knowledge Base with Retrieve API\n",
    "If you need an extra layer of control, you can retrieve the chuncks that best match your query using the retrieve API. In this setup, we can configure the desired number of results and control the final answer with your own application logic. The API then provides you with the matching content, its S3 location, the similarity score and the chunk metadata"
   ]
  },
  {
   "cell_type": "code",
   "execution_count": null,
   "id": "34a3f96b-926a-411c-bef7-38c4689fed7b",
   "metadata": {
    "pycharm": {
     "name": "#%%\n"
    },
    "tags": []
   },
   "outputs": [],
   "source": [
    "response_ret = bedrock_agent_runtime_client.retrieve(\n",
    "    knowledgeBaseId=kb_id, \n",
    "    nextToken='string',\n",
    "    retrievalConfiguration={\n",
    "        \"vectorSearchConfiguration\": {\n",
    "            \"numberOfResults\":3,\n",
    "        } \n",
    "    },\n",
    "    retrievalQuery={\n",
    "        'text': 'What are the cons of a 15-year mortgage?'\n",
    "    }\n",
    ")\n",
    "\n",
    "def response_print(retrieve_resp):\n",
    "    #structure 'retrievalResults': list of contents. Each list has content, location, score, metadata\n",
    "    for num,chunk in enumerate(response_ret['retrievalResults'],1):\n",
    "        print('-----------------------------------------------------------------------------------------')\n",
    "        print(f'Chunk {num}: ',chunk['content']['text'],end='\\n'*2)\n",
    "        print(f'Chunk {num} Location: ',chunk['location'],end='\\n'*2)\n",
    "        print(f'Chunk {num} Score: ',chunk['score'],end='\\n'*2)\n",
    "        print(f'Chunk {num} Metadata: ',chunk['metadata'],end='\\n'*2)\n",
    "\n",
    "response_print(response_ret)"
   ]
  },
  {
   "cell_type": "markdown",
   "id": "e032c452-4feb-406d-aa6e-b85a59aded79",
   "metadata": {
    "pycharm": {
     "name": "#%% md\n"
    }
   },
   "source": [
    "## 2. Create the Agent for managing existing mortgages\n",
    "\n",
    "In this section we will go through all the steps to create an Agent for Amazon Bedrock. \n",
    "\n",
    "These are the steps to complete:\n",
    "    \n",
    "1. Create the new agent (with the helper function taking care of IAM role creation)\n",
    "2. Add an action group backed by a new Lambda function (with the helper function handling IAM role creation, Lambda function creation, adding the action group to the agent, and preparing the agent)"
   ]
  },
  {
   "cell_type": "markdown",
   "id": "68871530-2953-4a37-854e-10323cabf095",
   "metadata": {
    "pycharm": {
     "name": "#%% md\n"
    }
   },
   "source": [
    "#### Create the Lambda function code\n",
    "Here we create a source code file for a new Lambda function to implement the action group for the Existing Mortgage agent. You will notice the **TODO** section in the below code. In this example we have hardcoded the response back from the agent but in your environment this is where your business logic would reside. "
   ]
  },
  {
   "cell_type": "code",
   "execution_count": null,
   "id": "12271f1f-4739-472b-8909-cc81c148a941",
   "metadata": {
    "pycharm": {
     "name": "#%%\n"
    },
    "tags": []
   },
   "outputs": [],
   "source": [
    "%%writefile existing_mortgage_function.py\n",
    "import json\n",
    "\n",
    "def get_named_parameter(event, name):\n",
    "    return next(item for item in event['parameters'] if item['name'] == name)['value']\n",
    "    \n",
    "def populate_function_response(event, response_body):\n",
    "    return {'response': {'actionGroup': event['actionGroup'], 'function': event['function'],\n",
    "                'functionResponse': {'responseBody': {'TEXT': {'body': str(response_body)}}}}}\n",
    "\n",
    "def get_mortgage_status(customer_id):\n",
    "    # TODO: Implement real business logic to retrieve mortgage status\n",
    "    return {\n",
    "        \"account_number\": customer_id,\n",
    "        \"outstanding_principal\": 150000.0,\n",
    "        \"interest_rate\": 4.5,\n",
    "        \"maturity_date\": \"2030-06-30\",\n",
    "        \"payments_remaining\": 72,\n",
    "        \"last_payment_date\": \"2024-06-01\",\n",
    "        \"next_payment_due\": \"2024-07-01\",\n",
    "        \"next_payment_amount\": 1250.0\n",
    "    }\n",
    "\n",
    "def lambda_handler(event, context):\n",
    "    print(event)\n",
    "    function = event['function']\n",
    "    if function == 'get_mortgage_status':\n",
    "        customer_id = get_named_parameter(event, 'customer_id')\n",
    "        if not customer_id:\n",
    "            raise Exception(\"Missing mandatory parameter: customer_id\")\n",
    "        result = get_mortgage_status(customer_id)\n",
    "    else:\n",
    "        result = f\"Error, function '{function}' not recognized\"\n",
    "\n",
    "    response = populate_function_response(event, result)\n",
    "    print(response)\n",
    "    return response"
   ]
  },
  {
   "cell_type": "markdown",
   "id": "cce8445b",
   "metadata": {},
   "source": [
    "Next, the function for getting mortgage application document status. You will notice the **TODO** section in the below code. In this example we have hardcoded the response back from the agent but in your environment this is where your business logic would reside."
   ]
  },
  {
   "cell_type": "code",
   "execution_count": null,
   "id": "cd270299",
   "metadata": {},
   "outputs": [],
   "source": [
    "%%writefile mortgage_application_function.py\n",
    "import json\n",
    "\n",
    "def get_named_parameter(event, name):\n",
    "    return next(item for item in event['parameters'] if item['name'] == name)['value']\n",
    "    \n",
    "def populate_function_response(event, response_body):\n",
    "    return {'response': {'actionGroup': event['actionGroup'], 'function': event['function'],\n",
    "                'functionResponse': {'responseBody': {'TEXT': {'body': str(response_body)}}}}}\n",
    "\n",
    "def get_mortgage_application_document_status(customer_id):\n",
    "    # TODO: Implement the actual logic to retrieve the document status for the given customer ID\n",
    "    return [\n",
    "        {\n",
    "            \"type\": \"proof_of_income\",\n",
    "            \"status\": \"COMPLETED\"\n",
    "        },\n",
    "        {\n",
    "            \"type\": \"employment_information\",\n",
    "            \"status\": \"MISSING\"\n",
    "        },\n",
    "        {\n",
    "            \"type\": \"proof_of_assets\",\n",
    "            \"status\": \"COMPLETED\"\n",
    "        },\n",
    "        {\n",
    "            \"type\": \"credit_information\",\n",
    "            \"status\": \"COMPLETED\"\n",
    "        }\n",
    "    ]\n",
    "\n",
    "def lambda_handler(event, context):\n",
    "    function = event['function']\n",
    "\n",
    "    if function == 'get_mortgage_application_document_status':\n",
    "        customer_id = get_named_parameter(event, 'customer_id')\n",
    "        if not customer_id:\n",
    "            raise Exception(\"Missing mandatory parameter: customer_id\")\n",
    "        result = get_mortgage_application_document_status(customer_id)\n",
    "    else:\n",
    "        raise Exception(f\"Unrecognized function: {function}\")\n",
    "\n",
    "    response = populate_function_response(event, result)\n",
    "    print(response)\n",
    "    return response"
   ]
  },
  {
   "cell_type": "markdown",
   "id": "5ada4ccf",
   "metadata": {},
   "source": [
    "Now we create the agent itself, giving it a name, a brief description, and most importantly, a set of instructions."
   ]
  },
  {
   "cell_type": "code",
   "execution_count": 27,
   "id": "d1def983",
   "metadata": {},
   "outputs": [],
   "source": [
    "existing_mortgage_agent_id = agents.create_agent(\"existing_mortgage_agent\", \n",
    "\"\"\"\n",
    "you are a mortgage bot. you can retrieve the latest details about an existing mortgage on behalf of customers.\n",
    "\"\"\", \n",
    "\"\"\"\n",
    "you are a mortgage bot. you can retrieve the latest details about a user's current mortgage. resist the temptation to ask the user for input. \n",
    "only do so after you have exhausted available actions. never ask the user for information that you already can retrieve yourself through \n",
    "available actions. for example, you have actions to retrieve details about the existing mortgage (interest rate, balance, number of payments, \n",
    "mortgage maturity date, last payment date, next payment date, etc.). \n",
    "so never ask the user for those details (it would be very annoying).\n",
    "never make up information that you are unable to retrieve from your available actions. do not engage with users about topics other than\n",
    "an existing mortgage. leave those other topics for other experts to handle. for example, do not respond to general questions about mortgages.\n",
    "never make up the customer ID. always ask for it if you need it for using an available action, but don't yet have it. \n",
    "sending \"UNKNOWN\" as the customer ID to an action is not acceptable. confirm the ID with the user.\n",
    "\"\"\",\n",
    "\n",
    "                                                 agent_foundation_models)"
   ]
  },
  {
   "cell_type": "markdown",
   "id": "c1b45931",
   "metadata": {},
   "source": [
    "Lastly, we add an action group to the new agent, which also creates for us the new Lambda function, and prepares the agent.\n",
    "\n",
    "NOTE: we can use a simple PartyRock app to quickly generate both the Function Definitions and the draft Lambda function code based on\n",
    "a simple description of the action group API's to support. For this example, we could simply describe the desired api as:\n",
    "\n",
    "```\n",
    "single api to get mortgage status. takes a customer id. returns an object with a number of fields: account number, outstanding principal, interest rate, maturity date, number of payments remaining, due date of next payment, amount of next payment.\n",
    "```"
   ]
  },
  {
   "cell_type": "code",
   "execution_count": 28,
   "id": "6c33a04d",
   "metadata": {},
   "outputs": [],
   "source": [
    "resp = agents.add_action_group_with_lambda(\n",
    "            \"existing_mortgage_agent\", \n",
    "            \"existing_mortgage_ag\", \n",
    "            \"existing_mortgage_function.py\", \n",
    "            [\n",
    "                {\n",
    "                    \"name\": \"get_mortgage_status\",\n",
    "                    \"description\": \"\"\"\n",
    "                    Retrieves the mortgage status for a given customer ID. Returns an object containing the account number, \n",
    "                    outstanding principal, interest rate, maturity date, number of payments remaining, due date of next payment, \n",
    "                    and amount of next payment.\"\"\",\n",
    "                    \"parameters\": {\n",
    "                    \"customer_id\": {\n",
    "                        \"description\": \"The unique identifier for the customer whose mortgage status is being requested.\",\n",
    "                        \"type\": \"string\",\n",
    "                        \"required\": True\n",
    "                    }\n",
    "                    }\n",
    "                }\n",
    "            ], \n",
    "            \"existing_mortgage_actions\", \n",
    "            \"Set of functions for managing an existing mortgage\"\n",
    "            )"
   ]
  },
  {
   "cell_type": "code",
   "execution_count": null,
   "id": "f02fc4fd",
   "metadata": {},
   "outputs": [],
   "source": [
    "print(agents.invoke(\"I'm customer 98991. when's my next payment due?\", existing_mortgage_agent_id))"
   ]
  },
  {
   "cell_type": "markdown",
   "id": "398ffef7",
   "metadata": {},
   "source": [
    "## 3. Create the Agent for managing an application for a new mortgage\n",
    "\n",
    "In this section we will go through all the steps to create an Agent for Amazon Bedrock. \n",
    "\n",
    "These are the steps to complete:\n",
    "    \n",
    "1. Create the new agent (with the helper function taking care of IAM role creation)\n",
    "2. Add an action group backed by a new Lambda function (with the helper function handling IAM role creation, Lambda function creation, adding the action group to the agent, and preparing the agent)"
   ]
  },
  {
   "cell_type": "code",
   "execution_count": 30,
   "id": "e7ccbfa0",
   "metadata": {},
   "outputs": [],
   "source": [
    "mortgage_application_agent_id = agents.create_agent(\"mortgage_application_agent\", \n",
    "\"\"\"\n",
    "you are a bot to create, manage, and complete an application for a new mortgage. you help customers know what documentation \n",
    "they already provided and which ones they still need to provide.\n",
    "\"\"\", \n",
    "\"\"\"\n",
    "you are a mortgage bot for creating, managing, and completing an application for a new mortgage. \n",
    "you can help customers know what documentation they have already provided and which ones they still need to provide.\n",
    "never make up information that you are unable to retrieve from your available actions. do not engage with users about topics other than\n",
    "an existing mortgage. leave those other topics for other experts to handle. for example, do not respond to general questions about mortgages.\n",
    "\"\"\",\n",
    "\n",
    "                                                 agent_foundation_models)"
   ]
  },
  {
   "cell_type": "markdown",
   "id": "e02cce40",
   "metadata": {},
   "source": [
    "Lastly, we add an action group to the new agent, which also creates for us the new Lambda function, and prepares the agent.\n",
    "\n",
    "NOTE: we can use a simple PartyRock app to quickly generate both the Function Definitions and the draft Lambda function code based on\n",
    "a simple description of the action group API's to support. For this example, we could simply describe the desired api as:\n",
    "\n",
    "```\n",
    "single api to get the list of documents required to complete a mortgage application that is in process, and the status of each one. the api takes in a customer id, and gives back a list of objects, one for each required document. each object has the type of the required document, and the status (COMPLETED or MISSING). the required document types are proof of income, employment information, proof of assets, and credit information. the list contains one object for each of these document types.\n",
    "```"
   ]
  },
  {
   "cell_type": "code",
   "execution_count": 31,
   "id": "bbd05ca5",
   "metadata": {},
   "outputs": [],
   "source": [
    "resp = agents.add_action_group_with_lambda(\n",
    "            \"mortgage_application_agent\", \n",
    "            \"mortgage_application_ag\", \n",
    "            \"mortgage_application_function.py\", \n",
    "            [\n",
    "                {\n",
    "                    \"name\": \"get_mortgage_application_document_status\",\n",
    "                    \"description\": \"\"\"\n",
    "                    Retrieves the list of required documents for a mortgage application in process, \n",
    "                    along with their respective statuses (COMPLETED or MISSING). \n",
    "                    The function takes a customer ID as input and returns a list of objects, where each object represents \n",
    "                    a required document type. The required document types are proof of income, employment information, \n",
    "                    proof of assets, and credit information. Each object in the returned list contains the type of the \n",
    "                    required document and its corresponding status.\"\"\",\n",
    "                    \"parameters\": {\n",
    "                    \"customer_id\": {\n",
    "                        \"description\": \"\"\"\n",
    "                    The unique identifier of the customer whose mortgage application document status is to be retrieved.\"\"\",\n",
    "                        \"type\": \"string\",\n",
    "                        \"required\": True\n",
    "                    }\n",
    "                    }\n",
    "                }\n",
    "            ], \n",
    "            \"mortgage_application_actions\", \n",
    "            \"Set of functions for managing an application for a new mortgage\"\n",
    "            )"
   ]
  },
  {
   "cell_type": "code",
   "execution_count": null,
   "id": "20876b6d",
   "metadata": {},
   "outputs": [],
   "source": [
    "print(agents.invoke(\"I'm customer 98991. what docs do I still owe you?\", \n",
    "                    mortgage_application_agent_id))"
   ]
  },
  {
   "cell_type": "markdown",
   "id": "e8ff72dc",
   "metadata": {},
   "source": [
    "## 4. Use session attributes to provide context to the agent"
   ]
  },
  {
   "cell_type": "code",
   "execution_count": null,
   "id": "2746a8bf",
   "metadata": {},
   "outputs": [],
   "source": [
    "from datetime import datetime\n",
    "today = datetime.today().strftime('%b-%d-%Y')\n",
    "\n",
    "session_state = {\n",
    "    \"promptSessionAttributes\": {\n",
    "        \"customer_ID\": \"498\",\n",
    "        \"today\": today\n",
    "    }\n",
    "}\n",
    "session_state"
   ]
  },
  {
   "cell_type": "markdown",
   "id": "9c3da026",
   "metadata": {},
   "source": [
    "Here I ask the agent a question that requires a customer ID, and it succeeds without having to prompt the user."
   ]
  },
  {
   "cell_type": "code",
   "execution_count": null,
   "id": "293fdfeb",
   "metadata": {},
   "outputs": [],
   "source": [
    "print(agents.invoke(\"what docs do I still owe you?\", \n",
    "                    mortgage_application_agent_id, session_id=\"123\",\n",
    "                    session_state=session_state))"
   ]
  },
  {
   "cell_type": "code",
   "execution_count": null,
   "id": "c7e826da",
   "metadata": {},
   "outputs": [],
   "source": [
    "print(agents.invoke(\"how many years until my maturity date?\", \n",
    "                    existing_mortgage_agent_id, session_id=\"123\",\n",
    "                    session_state=session_state))"
   ]
  },
  {
   "cell_type": "code",
   "execution_count": null,
   "id": "103a93a6",
   "metadata": {},
   "outputs": [],
   "source": [
    "print(agents.invoke(\"how many days until my next payment?\", \n",
    "                    existing_mortgage_agent_id, session_id=\"123\",\n",
    "                    session_state=session_state))"
   ]
  },
  {
   "cell_type": "markdown",
   "id": "cd84f967",
   "metadata": {},
   "source": [
    "## 5. Quick performance test"
   ]
  },
  {
   "cell_type": "code",
   "execution_count": 37,
   "id": "38c99cdf",
   "metadata": {},
   "outputs": [],
   "source": [
    "import uuid \n",
    "import time\n",
    "import numpy as np\n",
    "\n",
    "def query_loop_by_direct_invoke(query, agent_id, num_invokes):\n",
    "    latencies = []\n",
    "    for i in range(num_invokes):\n",
    "        _session_id = str(uuid.uuid1())\n",
    "        _start_time = time.time()\n",
    "        resp = agents.invoke(query, agent_id, session_id=_session_id)\n",
    "        _end_time = time.time()\n",
    "        latencies.append(_end_time - _start_time)\n",
    "\n",
    "    print(f'\\n\\nInvoked agent directly {num_invokes} times.')\n",
    "    # get sum of total latencies\n",
    "    total_time = sum(latencies)\n",
    "    # get average latency\n",
    "    avg_time = total_time / num_invokes\n",
    "    # get p90 latency\n",
    "    p90_time = np.percentile(latencies, 90)\n",
    "\n",
    "    print(f'Average latency: {avg_time:.1f}, P90 latency: {p90_time:.1f}')"
   ]
  },
  {
   "cell_type": "code",
   "execution_count": null,
   "id": "dd568401",
   "metadata": {},
   "outputs": [],
   "source": [
    "query_loop_by_direct_invoke(\"I am customer 999. how many years until the mortgage maturity date?\", \n",
    "                            existing_mortgage_agent_id, 25)"
   ]
  },
  {
   "cell_type": "markdown",
   "id": "ba725a70",
   "metadata": {},
   "source": [
    "## 6. Clean up"
   ]
  },
  {
   "cell_type": "markdown",
   "id": "e45f5c96",
   "metadata": {},
   "source": [
    "**NOTE: Don't execute the deletion cells if you are planning to proceed \n",
    "to subsequent notebooks, as those notebooks depend on the existence\n",
    "of these agents and knowledge bases.**"
   ]
  },
  {
   "cell_type": "code",
   "execution_count": 6,
   "id": "3cccc4e5",
   "metadata": {},
   "outputs": [],
   "source": [
    "agents.delete_lambda(\"existing_mortgage_ag\")\n",
    "agents.delete_agent(\"existing_mortgage_agent\")\n",
    "\n",
    "agents.delete_lambda(\"mortgage_application_ag\")\n",
    "agents.delete_agent(\"mortgage_application_agent\")"
   ]
  },
  {
   "cell_type": "code",
   "execution_count": null,
   "id": "8c2e5a47",
   "metadata": {},
   "outputs": [],
   "source": [
    "knowledge_base.delete_kb()"
   ]
  }
 ],
 "metadata": {
  "availableInstances": [
   {
    "_defaultOrder": 0,
    "_isFastLaunch": true,
    "category": "General purpose",
    "gpuNum": 0,
    "hideHardwareSpecs": false,
    "memoryGiB": 4,
    "name": "ml.t3.medium",
    "vcpuNum": 2
   },
   {
    "_defaultOrder": 1,
    "_isFastLaunch": false,
    "category": "General purpose",
    "gpuNum": 0,
    "hideHardwareSpecs": false,
    "memoryGiB": 8,
    "name": "ml.t3.large",
    "vcpuNum": 2
   },
   {
    "_defaultOrder": 2,
    "_isFastLaunch": false,
    "category": "General purpose",
    "gpuNum": 0,
    "hideHardwareSpecs": false,
    "memoryGiB": 16,
    "name": "ml.t3.xlarge",
    "vcpuNum": 4
   },
   {
    "_defaultOrder": 3,
    "_isFastLaunch": false,
    "category": "General purpose",
    "gpuNum": 0,
    "hideHardwareSpecs": false,
    "memoryGiB": 32,
    "name": "ml.t3.2xlarge",
    "vcpuNum": 8
   },
   {
    "_defaultOrder": 4,
    "_isFastLaunch": true,
    "category": "General purpose",
    "gpuNum": 0,
    "hideHardwareSpecs": false,
    "memoryGiB": 8,
    "name": "ml.m5.large",
    "vcpuNum": 2
   },
   {
    "_defaultOrder": 5,
    "_isFastLaunch": false,
    "category": "General purpose",
    "gpuNum": 0,
    "hideHardwareSpecs": false,
    "memoryGiB": 16,
    "name": "ml.m5.xlarge",
    "vcpuNum": 4
   },
   {
    "_defaultOrder": 6,
    "_isFastLaunch": false,
    "category": "General purpose",
    "gpuNum": 0,
    "hideHardwareSpecs": false,
    "memoryGiB": 32,
    "name": "ml.m5.2xlarge",
    "vcpuNum": 8
   },
   {
    "_defaultOrder": 7,
    "_isFastLaunch": false,
    "category": "General purpose",
    "gpuNum": 0,
    "hideHardwareSpecs": false,
    "memoryGiB": 64,
    "name": "ml.m5.4xlarge",
    "vcpuNum": 16
   },
   {
    "_defaultOrder": 8,
    "_isFastLaunch": false,
    "category": "General purpose",
    "gpuNum": 0,
    "hideHardwareSpecs": false,
    "memoryGiB": 128,
    "name": "ml.m5.8xlarge",
    "vcpuNum": 32
   },
   {
    "_defaultOrder": 9,
    "_isFastLaunch": false,
    "category": "General purpose",
    "gpuNum": 0,
    "hideHardwareSpecs": false,
    "memoryGiB": 192,
    "name": "ml.m5.12xlarge",
    "vcpuNum": 48
   },
   {
    "_defaultOrder": 10,
    "_isFastLaunch": false,
    "category": "General purpose",
    "gpuNum": 0,
    "hideHardwareSpecs": false,
    "memoryGiB": 256,
    "name": "ml.m5.16xlarge",
    "vcpuNum": 64
   },
   {
    "_defaultOrder": 11,
    "_isFastLaunch": false,
    "category": "General purpose",
    "gpuNum": 0,
    "hideHardwareSpecs": false,
    "memoryGiB": 384,
    "name": "ml.m5.24xlarge",
    "vcpuNum": 96
   },
   {
    "_defaultOrder": 12,
    "_isFastLaunch": false,
    "category": "General purpose",
    "gpuNum": 0,
    "hideHardwareSpecs": false,
    "memoryGiB": 8,
    "name": "ml.m5d.large",
    "vcpuNum": 2
   },
   {
    "_defaultOrder": 13,
    "_isFastLaunch": false,
    "category": "General purpose",
    "gpuNum": 0,
    "hideHardwareSpecs": false,
    "memoryGiB": 16,
    "name": "ml.m5d.xlarge",
    "vcpuNum": 4
   },
   {
    "_defaultOrder": 14,
    "_isFastLaunch": false,
    "category": "General purpose",
    "gpuNum": 0,
    "hideHardwareSpecs": false,
    "memoryGiB": 32,
    "name": "ml.m5d.2xlarge",
    "vcpuNum": 8
   },
   {
    "_defaultOrder": 15,
    "_isFastLaunch": false,
    "category": "General purpose",
    "gpuNum": 0,
    "hideHardwareSpecs": false,
    "memoryGiB": 64,
    "name": "ml.m5d.4xlarge",
    "vcpuNum": 16
   },
   {
    "_defaultOrder": 16,
    "_isFastLaunch": false,
    "category": "General purpose",
    "gpuNum": 0,
    "hideHardwareSpecs": false,
    "memoryGiB": 128,
    "name": "ml.m5d.8xlarge",
    "vcpuNum": 32
   },
   {
    "_defaultOrder": 17,
    "_isFastLaunch": false,
    "category": "General purpose",
    "gpuNum": 0,
    "hideHardwareSpecs": false,
    "memoryGiB": 192,
    "name": "ml.m5d.12xlarge",
    "vcpuNum": 48
   },
   {
    "_defaultOrder": 18,
    "_isFastLaunch": false,
    "category": "General purpose",
    "gpuNum": 0,
    "hideHardwareSpecs": false,
    "memoryGiB": 256,
    "name": "ml.m5d.16xlarge",
    "vcpuNum": 64
   },
   {
    "_defaultOrder": 19,
    "_isFastLaunch": false,
    "category": "General purpose",
    "gpuNum": 0,
    "hideHardwareSpecs": false,
    "memoryGiB": 384,
    "name": "ml.m5d.24xlarge",
    "vcpuNum": 96
   },
   {
    "_defaultOrder": 20,
    "_isFastLaunch": false,
    "category": "General purpose",
    "gpuNum": 0,
    "hideHardwareSpecs": true,
    "memoryGiB": 0,
    "name": "ml.geospatial.interactive",
    "supportedImageNames": [
     "sagemaker-geospatial-v1-0"
    ],
    "vcpuNum": 0
   },
   {
    "_defaultOrder": 21,
    "_isFastLaunch": true,
    "category": "Compute optimized",
    "gpuNum": 0,
    "hideHardwareSpecs": false,
    "memoryGiB": 4,
    "name": "ml.c5.large",
    "vcpuNum": 2
   },
   {
    "_defaultOrder": 22,
    "_isFastLaunch": false,
    "category": "Compute optimized",
    "gpuNum": 0,
    "hideHardwareSpecs": false,
    "memoryGiB": 8,
    "name": "ml.c5.xlarge",
    "vcpuNum": 4
   },
   {
    "_defaultOrder": 23,
    "_isFastLaunch": false,
    "category": "Compute optimized",
    "gpuNum": 0,
    "hideHardwareSpecs": false,
    "memoryGiB": 16,
    "name": "ml.c5.2xlarge",
    "vcpuNum": 8
   },
   {
    "_defaultOrder": 24,
    "_isFastLaunch": false,
    "category": "Compute optimized",
    "gpuNum": 0,
    "hideHardwareSpecs": false,
    "memoryGiB": 32,
    "name": "ml.c5.4xlarge",
    "vcpuNum": 16
   },
   {
    "_defaultOrder": 25,
    "_isFastLaunch": false,
    "category": "Compute optimized",
    "gpuNum": 0,
    "hideHardwareSpecs": false,
    "memoryGiB": 72,
    "name": "ml.c5.9xlarge",
    "vcpuNum": 36
   },
   {
    "_defaultOrder": 26,
    "_isFastLaunch": false,
    "category": "Compute optimized",
    "gpuNum": 0,
    "hideHardwareSpecs": false,
    "memoryGiB": 96,
    "name": "ml.c5.12xlarge",
    "vcpuNum": 48
   },
   {
    "_defaultOrder": 27,
    "_isFastLaunch": false,
    "category": "Compute optimized",
    "gpuNum": 0,
    "hideHardwareSpecs": false,
    "memoryGiB": 144,
    "name": "ml.c5.18xlarge",
    "vcpuNum": 72
   },
   {
    "_defaultOrder": 28,
    "_isFastLaunch": false,
    "category": "Compute optimized",
    "gpuNum": 0,
    "hideHardwareSpecs": false,
    "memoryGiB": 192,
    "name": "ml.c5.24xlarge",
    "vcpuNum": 96
   },
   {
    "_defaultOrder": 29,
    "_isFastLaunch": true,
    "category": "Accelerated computing",
    "gpuNum": 1,
    "hideHardwareSpecs": false,
    "memoryGiB": 16,
    "name": "ml.g4dn.xlarge",
    "vcpuNum": 4
   },
   {
    "_defaultOrder": 30,
    "_isFastLaunch": false,
    "category": "Accelerated computing",
    "gpuNum": 1,
    "hideHardwareSpecs": false,
    "memoryGiB": 32,
    "name": "ml.g4dn.2xlarge",
    "vcpuNum": 8
   },
   {
    "_defaultOrder": 31,
    "_isFastLaunch": false,
    "category": "Accelerated computing",
    "gpuNum": 1,
    "hideHardwareSpecs": false,
    "memoryGiB": 64,
    "name": "ml.g4dn.4xlarge",
    "vcpuNum": 16
   },
   {
    "_defaultOrder": 32,
    "_isFastLaunch": false,
    "category": "Accelerated computing",
    "gpuNum": 1,
    "hideHardwareSpecs": false,
    "memoryGiB": 128,
    "name": "ml.g4dn.8xlarge",
    "vcpuNum": 32
   },
   {
    "_defaultOrder": 33,
    "_isFastLaunch": false,
    "category": "Accelerated computing",
    "gpuNum": 4,
    "hideHardwareSpecs": false,
    "memoryGiB": 192,
    "name": "ml.g4dn.12xlarge",
    "vcpuNum": 48
   },
   {
    "_defaultOrder": 34,
    "_isFastLaunch": false,
    "category": "Accelerated computing",
    "gpuNum": 1,
    "hideHardwareSpecs": false,
    "memoryGiB": 256,
    "name": "ml.g4dn.16xlarge",
    "vcpuNum": 64
   },
   {
    "_defaultOrder": 35,
    "_isFastLaunch": false,
    "category": "Accelerated computing",
    "gpuNum": 1,
    "hideHardwareSpecs": false,
    "memoryGiB": 61,
    "name": "ml.p3.2xlarge",
    "vcpuNum": 8
   },
   {
    "_defaultOrder": 36,
    "_isFastLaunch": false,
    "category": "Accelerated computing",
    "gpuNum": 4,
    "hideHardwareSpecs": false,
    "memoryGiB": 244,
    "name": "ml.p3.8xlarge",
    "vcpuNum": 32
   },
   {
    "_defaultOrder": 37,
    "_isFastLaunch": false,
    "category": "Accelerated computing",
    "gpuNum": 8,
    "hideHardwareSpecs": false,
    "memoryGiB": 488,
    "name": "ml.p3.16xlarge",
    "vcpuNum": 64
   },
   {
    "_defaultOrder": 38,
    "_isFastLaunch": false,
    "category": "Accelerated computing",
    "gpuNum": 8,
    "hideHardwareSpecs": false,
    "memoryGiB": 768,
    "name": "ml.p3dn.24xlarge",
    "vcpuNum": 96
   },
   {
    "_defaultOrder": 39,
    "_isFastLaunch": false,
    "category": "Memory Optimized",
    "gpuNum": 0,
    "hideHardwareSpecs": false,
    "memoryGiB": 16,
    "name": "ml.r5.large",
    "vcpuNum": 2
   },
   {
    "_defaultOrder": 40,
    "_isFastLaunch": false,
    "category": "Memory Optimized",
    "gpuNum": 0,
    "hideHardwareSpecs": false,
    "memoryGiB": 32,
    "name": "ml.r5.xlarge",
    "vcpuNum": 4
   },
   {
    "_defaultOrder": 41,
    "_isFastLaunch": false,
    "category": "Memory Optimized",
    "gpuNum": 0,
    "hideHardwareSpecs": false,
    "memoryGiB": 64,
    "name": "ml.r5.2xlarge",
    "vcpuNum": 8
   },
   {
    "_defaultOrder": 42,
    "_isFastLaunch": false,
    "category": "Memory Optimized",
    "gpuNum": 0,
    "hideHardwareSpecs": false,
    "memoryGiB": 128,
    "name": "ml.r5.4xlarge",
    "vcpuNum": 16
   },
   {
    "_defaultOrder": 43,
    "_isFastLaunch": false,
    "category": "Memory Optimized",
    "gpuNum": 0,
    "hideHardwareSpecs": false,
    "memoryGiB": 256,
    "name": "ml.r5.8xlarge",
    "vcpuNum": 32
   },
   {
    "_defaultOrder": 44,
    "_isFastLaunch": false,
    "category": "Memory Optimized",
    "gpuNum": 0,
    "hideHardwareSpecs": false,
    "memoryGiB": 384,
    "name": "ml.r5.12xlarge",
    "vcpuNum": 48
   },
   {
    "_defaultOrder": 45,
    "_isFastLaunch": false,
    "category": "Memory Optimized",
    "gpuNum": 0,
    "hideHardwareSpecs": false,
    "memoryGiB": 512,
    "name": "ml.r5.16xlarge",
    "vcpuNum": 64
   },
   {
    "_defaultOrder": 46,
    "_isFastLaunch": false,
    "category": "Memory Optimized",
    "gpuNum": 0,
    "hideHardwareSpecs": false,
    "memoryGiB": 768,
    "name": "ml.r5.24xlarge",
    "vcpuNum": 96
   },
   {
    "_defaultOrder": 47,
    "_isFastLaunch": false,
    "category": "Accelerated computing",
    "gpuNum": 1,
    "hideHardwareSpecs": false,
    "memoryGiB": 16,
    "name": "ml.g5.xlarge",
    "vcpuNum": 4
   },
   {
    "_defaultOrder": 48,
    "_isFastLaunch": false,
    "category": "Accelerated computing",
    "gpuNum": 1,
    "hideHardwareSpecs": false,
    "memoryGiB": 32,
    "name": "ml.g5.2xlarge",
    "vcpuNum": 8
   },
   {
    "_defaultOrder": 49,
    "_isFastLaunch": false,
    "category": "Accelerated computing",
    "gpuNum": 1,
    "hideHardwareSpecs": false,
    "memoryGiB": 64,
    "name": "ml.g5.4xlarge",
    "vcpuNum": 16
   },
   {
    "_defaultOrder": 50,
    "_isFastLaunch": false,
    "category": "Accelerated computing",
    "gpuNum": 1,
    "hideHardwareSpecs": false,
    "memoryGiB": 128,
    "name": "ml.g5.8xlarge",
    "vcpuNum": 32
   },
   {
    "_defaultOrder": 51,
    "_isFastLaunch": false,
    "category": "Accelerated computing",
    "gpuNum": 1,
    "hideHardwareSpecs": false,
    "memoryGiB": 256,
    "name": "ml.g5.16xlarge",
    "vcpuNum": 64
   },
   {
    "_defaultOrder": 52,
    "_isFastLaunch": false,
    "category": "Accelerated computing",
    "gpuNum": 4,
    "hideHardwareSpecs": false,
    "memoryGiB": 192,
    "name": "ml.g5.12xlarge",
    "vcpuNum": 48
   },
   {
    "_defaultOrder": 53,
    "_isFastLaunch": false,
    "category": "Accelerated computing",
    "gpuNum": 4,
    "hideHardwareSpecs": false,
    "memoryGiB": 384,
    "name": "ml.g5.24xlarge",
    "vcpuNum": 96
   },
   {
    "_defaultOrder": 54,
    "_isFastLaunch": false,
    "category": "Accelerated computing",
    "gpuNum": 8,
    "hideHardwareSpecs": false,
    "memoryGiB": 768,
    "name": "ml.g5.48xlarge",
    "vcpuNum": 192
   },
   {
    "_defaultOrder": 55,
    "_isFastLaunch": false,
    "category": "Accelerated computing",
    "gpuNum": 8,
    "hideHardwareSpecs": false,
    "memoryGiB": 1152,
    "name": "ml.p4d.24xlarge",
    "vcpuNum": 96
   },
   {
    "_defaultOrder": 56,
    "_isFastLaunch": false,
    "category": "Accelerated computing",
    "gpuNum": 8,
    "hideHardwareSpecs": false,
    "memoryGiB": 1152,
    "name": "ml.p4de.24xlarge",
    "vcpuNum": 96
   },
   {
    "_defaultOrder": 57,
    "_isFastLaunch": false,
    "category": "Accelerated computing",
    "gpuNum": 0,
    "hideHardwareSpecs": false,
    "memoryGiB": 32,
    "name": "ml.trn1.2xlarge",
    "vcpuNum": 8
   },
   {
    "_defaultOrder": 58,
    "_isFastLaunch": false,
    "category": "Accelerated computing",
    "gpuNum": 0,
    "hideHardwareSpecs": false,
    "memoryGiB": 512,
    "name": "ml.trn1.32xlarge",
    "vcpuNum": 128
   },
   {
    "_defaultOrder": 59,
    "_isFastLaunch": false,
    "category": "Accelerated computing",
    "gpuNum": 0,
    "hideHardwareSpecs": false,
    "memoryGiB": 512,
    "name": "ml.trn1n.32xlarge",
    "vcpuNum": 128
   }
  ],
  "instance_type": "ml.t3.medium",
  "kernelspec": {
   "display_name": "Python 3 (ipykernel)",
   "language": "python",
   "name": "python3"
  },
  "language_info": {
   "codemirror_mode": {
    "name": "ipython",
    "version": 3
   },
   "file_extension": ".py",
   "mimetype": "text/x-python",
   "name": "python",
   "nbconvert_exporter": "python",
   "pygments_lexer": "ipython3",
   "version": "3.11.3"
  }
 },
 "nbformat": 4,
 "nbformat_minor": 5
}
